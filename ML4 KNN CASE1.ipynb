{
 "cells": [
  {
   "cell_type": "markdown",
   "metadata": {},
   "source": [
    "# ML4 KNN CASE1"
   ]
  },
  {
   "cell_type": "markdown",
   "metadata": {},
   "source": [
    "Referred dataset : \"Iris\"\n",
    "\n",
    "Dataset Source : \"Scikit\" In-built\n",
    "\n",
    "http://scikit-learn.org/stable/auto_examples/datasets/plot_iris_dataset.html"
   ]
  },
  {
   "cell_type": "markdown",
   "metadata": {},
   "source": [
    "Petals are the colorful leaves of the flowers, surrounding the fertilization part.\n",
    "\n",
    "Sepals are the mostly green color protective portion surrounding the petals, and provide the protection and strength to the flower before and during blooming. "
   ]
  },
  {
   "cell_type": "raw",
   "metadata": {},
   "source": [
    "Iris Dataset content:\n",
    "    Iris Flowers (labels):\n",
    "        Setosa\n",
    "        Versicolor\n",
    "        Verginica\n",
    "    Attributes (Predictive Features):\n",
    "        Sepal Length\n",
    "        Sepal Width\n",
    "        Petal Length\n",
    "        Petal Width"
   ]
  },
  {
   "cell_type": "markdown",
   "metadata": {},
   "source": [
    "### Step 1 : Observe the dataset"
   ]
  },
  {
   "cell_type": "code",
   "execution_count": 1,
   "metadata": {},
   "outputs": [],
   "source": [
    "from statsmodels.api import datasets"
   ]
  },
  {
   "cell_type": "code",
   "execution_count": 2,
   "metadata": {},
   "outputs": [
    {
     "name": "stderr",
     "output_type": "stream",
     "text": [
      "d:\\ProgramData\\Anaconda3\\lib\\site-packages\\statsmodels\\datasets\\utils.py:192: FutureWarning: `item` has been deprecated and will be removed in a future version\n",
      "  return dataset_meta[\"Title\"].item()\n"
     ]
    },
    {
     "data": {
      "text/html": [
       "<div>\n",
       "<style scoped>\n",
       "    .dataframe tbody tr th:only-of-type {\n",
       "        vertical-align: middle;\n",
       "    }\n",
       "\n",
       "    .dataframe tbody tr th {\n",
       "        vertical-align: top;\n",
       "    }\n",
       "\n",
       "    .dataframe thead th {\n",
       "        text-align: right;\n",
       "    }\n",
       "</style>\n",
       "<table border=\"1\" class=\"dataframe\">\n",
       "  <thead>\n",
       "    <tr style=\"text-align: right;\">\n",
       "      <th></th>\n",
       "      <th>Sepal_Length</th>\n",
       "      <th>Sepal_Width</th>\n",
       "      <th>Petal_Length</th>\n",
       "      <th>Petal_Width</th>\n",
       "      <th>Species</th>\n",
       "    </tr>\n",
       "  </thead>\n",
       "  <tbody>\n",
       "    <tr>\n",
       "      <td>0</td>\n",
       "      <td>5.1</td>\n",
       "      <td>3.5</td>\n",
       "      <td>1.4</td>\n",
       "      <td>0.2</td>\n",
       "      <td>setosa</td>\n",
       "    </tr>\n",
       "    <tr>\n",
       "      <td>1</td>\n",
       "      <td>4.9</td>\n",
       "      <td>3.0</td>\n",
       "      <td>1.4</td>\n",
       "      <td>0.2</td>\n",
       "      <td>setosa</td>\n",
       "    </tr>\n",
       "    <tr>\n",
       "      <td>2</td>\n",
       "      <td>4.7</td>\n",
       "      <td>3.2</td>\n",
       "      <td>1.3</td>\n",
       "      <td>0.2</td>\n",
       "      <td>setosa</td>\n",
       "    </tr>\n",
       "    <tr>\n",
       "      <td>3</td>\n",
       "      <td>4.6</td>\n",
       "      <td>3.1</td>\n",
       "      <td>1.5</td>\n",
       "      <td>0.2</td>\n",
       "      <td>setosa</td>\n",
       "    </tr>\n",
       "    <tr>\n",
       "      <td>4</td>\n",
       "      <td>5.0</td>\n",
       "      <td>3.6</td>\n",
       "      <td>1.4</td>\n",
       "      <td>0.2</td>\n",
       "      <td>setosa</td>\n",
       "    </tr>\n",
       "  </tbody>\n",
       "</table>\n",
       "</div>"
      ],
      "text/plain": [
       "   Sepal_Length  Sepal_Width  Petal_Length  Petal_Width Species\n",
       "0           5.1          3.5           1.4          0.2  setosa\n",
       "1           4.9          3.0           1.4          0.2  setosa\n",
       "2           4.7          3.2           1.3          0.2  setosa\n",
       "3           4.6          3.1           1.5          0.2  setosa\n",
       "4           5.0          3.6           1.4          0.2  setosa"
      ]
     },
     "execution_count": 2,
     "metadata": {},
     "output_type": "execute_result"
    }
   ],
   "source": [
    "iris = datasets.get_rdataset(\"iris\")\n",
    "iris.data.columns = [\"Sepal_Length\", \"Sepal_Width\", \\\n",
    "                     \"Petal_Length\",\"Petal_Width\", \"Species\"]\n",
    "\n",
    "iris.data.head()"
   ]
  },
  {
   "cell_type": "markdown",
   "metadata": {},
   "source": [
    "Here are 4 features containing the dimension of the flowers.\n",
    "And here is 1 label column mentioning the species.\n",
    "Our purpose is to create and test a KNN algorithm, to identified the correct species of a flower based on the provided features i.e. dimensions."
   ]
  },
  {
   "cell_type": "markdown",
   "metadata": {},
   "source": [
    "### Step 2: Check the data types of each columns(features)"
   ]
  },
  {
   "cell_type": "code",
   "execution_count": 3,
   "metadata": {},
   "outputs": [
    {
     "data": {
      "text/plain": [
       "Sepal_Length    float64\n",
       "Sepal_Width     float64\n",
       "Petal_Length    float64\n",
       "Petal_Width     float64\n",
       "Species          object\n",
       "dtype: object"
      ]
     },
     "execution_count": 3,
     "metadata": {},
     "output_type": "execute_result"
    }
   ],
   "source": [
    "iris.data.dtypes"
   ]
  },
  {
   "cell_type": "markdown",
   "metadata": {},
   "source": [
    "Here all the features are float types (as expected for this dataset). The label is string/text type."
   ]
  },
  {
   "cell_type": "markdown",
   "metadata": {},
   "source": [
    "### Step 3: Identify the categories, and the number of times they are found in this provided dataset."
   ]
  },
  {
   "cell_type": "code",
   "execution_count": 4,
   "metadata": {},
   "outputs": [
    {
     "data": {
      "text/html": [
       "<div>\n",
       "<style scoped>\n",
       "    .dataframe tbody tr th:only-of-type {\n",
       "        vertical-align: middle;\n",
       "    }\n",
       "\n",
       "    .dataframe tbody tr th {\n",
       "        vertical-align: top;\n",
       "    }\n",
       "\n",
       "    .dataframe thead th {\n",
       "        text-align: right;\n",
       "    }\n",
       "</style>\n",
       "<table border=\"1\" class=\"dataframe\">\n",
       "  <thead>\n",
       "    <tr style=\"text-align: right;\">\n",
       "      <th></th>\n",
       "      <th>Sepal_Length</th>\n",
       "      <th>Sepal_Width</th>\n",
       "      <th>Petal_Length</th>\n",
       "      <th>Petal_Width</th>\n",
       "      <th>Species</th>\n",
       "      <th>count</th>\n",
       "    </tr>\n",
       "  </thead>\n",
       "  <tbody>\n",
       "    <tr>\n",
       "      <td>0</td>\n",
       "      <td>5.1</td>\n",
       "      <td>3.5</td>\n",
       "      <td>1.4</td>\n",
       "      <td>0.2</td>\n",
       "      <td>setosa</td>\n",
       "      <td>1</td>\n",
       "    </tr>\n",
       "    <tr>\n",
       "      <td>1</td>\n",
       "      <td>4.9</td>\n",
       "      <td>3.0</td>\n",
       "      <td>1.4</td>\n",
       "      <td>0.2</td>\n",
       "      <td>setosa</td>\n",
       "      <td>1</td>\n",
       "    </tr>\n",
       "    <tr>\n",
       "      <td>2</td>\n",
       "      <td>4.7</td>\n",
       "      <td>3.2</td>\n",
       "      <td>1.3</td>\n",
       "      <td>0.2</td>\n",
       "      <td>setosa</td>\n",
       "      <td>1</td>\n",
       "    </tr>\n",
       "    <tr>\n",
       "      <td>3</td>\n",
       "      <td>4.6</td>\n",
       "      <td>3.1</td>\n",
       "      <td>1.5</td>\n",
       "      <td>0.2</td>\n",
       "      <td>setosa</td>\n",
       "      <td>1</td>\n",
       "    </tr>\n",
       "    <tr>\n",
       "      <td>4</td>\n",
       "      <td>5.0</td>\n",
       "      <td>3.6</td>\n",
       "      <td>1.4</td>\n",
       "      <td>0.2</td>\n",
       "      <td>setosa</td>\n",
       "      <td>1</td>\n",
       "    </tr>\n",
       "    <tr>\n",
       "      <td>...</td>\n",
       "      <td>...</td>\n",
       "      <td>...</td>\n",
       "      <td>...</td>\n",
       "      <td>...</td>\n",
       "      <td>...</td>\n",
       "      <td>...</td>\n",
       "    </tr>\n",
       "    <tr>\n",
       "      <td>145</td>\n",
       "      <td>6.7</td>\n",
       "      <td>3.0</td>\n",
       "      <td>5.2</td>\n",
       "      <td>2.3</td>\n",
       "      <td>virginica</td>\n",
       "      <td>1</td>\n",
       "    </tr>\n",
       "    <tr>\n",
       "      <td>146</td>\n",
       "      <td>6.3</td>\n",
       "      <td>2.5</td>\n",
       "      <td>5.0</td>\n",
       "      <td>1.9</td>\n",
       "      <td>virginica</td>\n",
       "      <td>1</td>\n",
       "    </tr>\n",
       "    <tr>\n",
       "      <td>147</td>\n",
       "      <td>6.5</td>\n",
       "      <td>3.0</td>\n",
       "      <td>5.2</td>\n",
       "      <td>2.0</td>\n",
       "      <td>virginica</td>\n",
       "      <td>1</td>\n",
       "    </tr>\n",
       "    <tr>\n",
       "      <td>148</td>\n",
       "      <td>6.2</td>\n",
       "      <td>3.4</td>\n",
       "      <td>5.4</td>\n",
       "      <td>2.3</td>\n",
       "      <td>virginica</td>\n",
       "      <td>1</td>\n",
       "    </tr>\n",
       "    <tr>\n",
       "      <td>149</td>\n",
       "      <td>5.9</td>\n",
       "      <td>3.0</td>\n",
       "      <td>5.1</td>\n",
       "      <td>1.8</td>\n",
       "      <td>virginica</td>\n",
       "      <td>1</td>\n",
       "    </tr>\n",
       "  </tbody>\n",
       "</table>\n",
       "<p>150 rows × 6 columns</p>\n",
       "</div>"
      ],
      "text/plain": [
       "     Sepal_Length  Sepal_Width  Petal_Length  Petal_Width    Species  count\n",
       "0             5.1          3.5           1.4          0.2     setosa      1\n",
       "1             4.9          3.0           1.4          0.2     setosa      1\n",
       "2             4.7          3.2           1.3          0.2     setosa      1\n",
       "3             4.6          3.1           1.5          0.2     setosa      1\n",
       "4             5.0          3.6           1.4          0.2     setosa      1\n",
       "..            ...          ...           ...          ...        ...    ...\n",
       "145           6.7          3.0           5.2          2.3  virginica      1\n",
       "146           6.3          2.5           5.0          1.9  virginica      1\n",
       "147           6.5          3.0           5.2          2.0  virginica      1\n",
       "148           6.2          3.4           5.4          2.3  virginica      1\n",
       "149           5.9          3.0           5.1          1.8  virginica      1\n",
       "\n",
       "[150 rows x 6 columns]"
      ]
     },
     "execution_count": 4,
     "metadata": {},
     "output_type": "execute_result"
    }
   ],
   "source": [
    "iris.data[\"count\"] = 1\n",
    "iris.data"
   ]
  },
  {
   "cell_type": "code",
   "execution_count": 5,
   "metadata": {},
   "outputs": [
    {
     "data": {
      "text/html": [
       "<div>\n",
       "<style scoped>\n",
       "    .dataframe tbody tr th:only-of-type {\n",
       "        vertical-align: middle;\n",
       "    }\n",
       "\n",
       "    .dataframe tbody tr th {\n",
       "        vertical-align: top;\n",
       "    }\n",
       "\n",
       "    .dataframe thead th {\n",
       "        text-align: right;\n",
       "    }\n",
       "</style>\n",
       "<table border=\"1\" class=\"dataframe\">\n",
       "  <thead>\n",
       "    <tr style=\"text-align: right;\">\n",
       "      <th></th>\n",
       "      <th>count</th>\n",
       "    </tr>\n",
       "    <tr>\n",
       "      <th>Species</th>\n",
       "      <th></th>\n",
       "    </tr>\n",
       "  </thead>\n",
       "  <tbody>\n",
       "    <tr>\n",
       "      <td>setosa</td>\n",
       "      <td>50</td>\n",
       "    </tr>\n",
       "    <tr>\n",
       "      <td>versicolor</td>\n",
       "      <td>50</td>\n",
       "    </tr>\n",
       "    <tr>\n",
       "      <td>virginica</td>\n",
       "      <td>50</td>\n",
       "    </tr>\n",
       "  </tbody>\n",
       "</table>\n",
       "</div>"
      ],
      "text/plain": [
       "            count\n",
       "Species          \n",
       "setosa         50\n",
       "versicolor     50\n",
       "virginica      50"
      ]
     },
     "execution_count": 5,
     "metadata": {},
     "output_type": "execute_result"
    }
   ],
   "source": [
    "\n",
    "#iris.data[[\"Species\",\"count\"]]\n",
    "iris.data[[\"Species\",\"count\"]].groupby(\"Species\").count()"
   ]
  },
  {
   "cell_type": "markdown",
   "metadata": {},
   "source": [
    "We observed, there are three species identified in whole dataset.\n",
    "\n",
    "Each species mentioned 50 times equally."
   ]
  },
  {
   "cell_type": "markdown",
   "metadata": {},
   "source": [
    "### Step 4: Identify the categories in plots"
   ]
  },
  {
   "cell_type": "code",
   "execution_count": 6,
   "metadata": {},
   "outputs": [],
   "source": [
    "# Creating a new function plot_iris\n",
    "def plot_iris(iris, col1, col2):\n",
    "    \n",
    "    import seaborn as sns\n",
    "    import matplotlib.pyplot as plt\n",
    "    \n",
    "    sns.lmplot(x = col1, y = col2,\n",
    "              data = iris,\n",
    "              hue = \"Species\",\n",
    "              fit_reg = False)\n",
    "    plt.xlabel(col1)\n",
    "    plt.ylabel(col2)\n",
    "    plt.title(\"Iris Species\")\n",
    "    plt.show()\n"
   ]
  },
  {
   "cell_type": "code",
   "execution_count": 7,
   "metadata": {},
   "outputs": [
    {
     "data": {
      "text/plain": [
       "<Figure size 617.75x500 with 1 Axes>"
      ]
     },
     "metadata": {},
     "output_type": "display_data"
    }
   ],
   "source": [
    "# Running the function plot_iris on the available data    \n",
    "plot_iris(iris.data, \"Petal_Width\", \"Sepal_Length\")\n"
   ]
  },
  {
   "cell_type": "code",
   "execution_count": 8,
   "metadata": {},
   "outputs": [
    {
     "data": {
      "image/png": "[encoded data removed]",
      "text/plain": [
       "<Figure size 444.75x360 with 1 Axes>"
      ]
     },
     "metadata": {
      "needs_background": "light"
     },
     "output_type": "display_data"
    }
   ],
   "source": [
    "plot_iris(iris.data, \"Sepal_Width\", \"Sepal_Length\")"
   ]
  },
  {
   "cell_type": "markdown",
   "metadata": {},
   "source": [
    "In these two graphs, we observed that the species \"Setosa\" is very much clear and separated, while other species has some overlappings. This means that when we run a machine learning algorithm, there will be less inaccuracy in identifying the \"Setosa\" species, but there will be more inaccuracy in other species."
   ]
  },
  {
   "cell_type": "markdown",
   "metadata": {},
   "source": [
    "### Step 5: Data Preparation"
   ]
  },
  {
   "cell_type": "markdown",
   "metadata": {},
   "source": [
    "Data Preparation is very crucial part before running the machine learning algorithm. The important steps are as below:\n",
    "    \n",
    "    Removing observations having missing values or filling the missing values with appropriate mean or zero values.\n",
    "    \n",
    "    Scale the numerical values of features, so that features have values in similar range. Otherwise, features with larger value range may dominate the machine learning model. This process is called normalization. During normalization, it is mostly desired to have mean equals to 0 and the variance  equals to 1.\n",
    "    \n",
    "    Splitting the data into the 'training set' and 'testing set'. This is needful to check the accuracy and efficiency of the machine learning model, before applying it to the unknown data of the real world."
   ]
  },
  {
   "cell_type": "code",
   "execution_count": 9,
   "metadata": {},
   "outputs": [
    {
     "name": "stdout",
     "output_type": "stream",
     "text": [
      "     Sepal_Length  Sepal_Width  Petal_Length  Petal_Width\n",
      "0       -0.900681     1.019004     -1.340227    -1.315444\n",
      "1       -1.143017    -0.131979     -1.340227    -1.315444\n",
      "2       -1.385353     0.328414     -1.397064    -1.315444\n",
      "3       -1.506521     0.098217     -1.283389    -1.315444\n",
      "4       -1.021849     1.249201     -1.340227    -1.315444\n",
      "..            ...          ...           ...          ...\n",
      "145      1.038005    -0.131979      0.819596     1.448832\n",
      "146      0.553333    -1.282963      0.705921     0.922303\n",
      "147      0.795669    -0.131979      0.819596     1.053935\n",
      "148      0.432165     0.788808      0.933271     1.448832\n",
      "149      0.068662    -0.131979      0.762758     0.790671\n",
      "\n",
      "[150 rows x 4 columns]\n"
     ]
    }
   ],
   "source": [
    "from sklearn.preprocessing import scale\n",
    "import pandas as pd\n",
    "\n",
    "colnames = [\"Sepal_Length\", \"Sepal_Width\", \"Petal_Length\", \"Petal_Width\"]\n",
    "\n",
    "iris_scaled = scale(iris.data[colnames])\n",
    "\n",
    "iris_scaled = pd.DataFrame(iris_scaled, columns = colnames)\n",
    "print(iris_scaled)\n",
    "# print(iris_scaled.describe().round())"
   ]
  },
  {
   "cell_type": "markdown",
   "metadata": {},
   "source": [
    "### Step 6: Numerization of the labels"
   ]
  },
  {
   "cell_type": "markdown",
   "metadata": {},
   "source": [
    "The methods in the sci-kit package requires numpy arrays as arguments. So, the strings mentioned in \"Species\" column must be converted into numbers. We shall use a dictionary lookup method for this conversion into whole dataset."
   ]
  },
  {
   "cell_type": "code",
   "execution_count": 10,
   "metadata": {},
   "outputs": [
    {
     "data": {
      "text/html": [
       "<div>\n",
       "<style scoped>\n",
       "    .dataframe tbody tr th:only-of-type {\n",
       "        vertical-align: middle;\n",
       "    }\n",
       "\n",
       "    .dataframe tbody tr th {\n",
       "        vertical-align: top;\n",
       "    }\n",
       "\n",
       "    .dataframe thead th {\n",
       "        text-align: right;\n",
       "    }\n",
       "</style>\n",
       "<table border=\"1\" class=\"dataframe\">\n",
       "  <thead>\n",
       "    <tr style=\"text-align: right;\">\n",
       "      <th></th>\n",
       "      <th>Sepal_Length</th>\n",
       "      <th>Sepal_Width</th>\n",
       "      <th>Petal_Length</th>\n",
       "      <th>Petal_Width</th>\n",
       "      <th>Species</th>\n",
       "    </tr>\n",
       "  </thead>\n",
       "  <tbody>\n",
       "    <tr>\n",
       "      <td>145</td>\n",
       "      <td>1.038005</td>\n",
       "      <td>-0.131979</td>\n",
       "      <td>0.819596</td>\n",
       "      <td>1.448832</td>\n",
       "      <td>2</td>\n",
       "    </tr>\n",
       "    <tr>\n",
       "      <td>146</td>\n",
       "      <td>0.553333</td>\n",
       "      <td>-1.282963</td>\n",
       "      <td>0.705921</td>\n",
       "      <td>0.922303</td>\n",
       "      <td>2</td>\n",
       "    </tr>\n",
       "    <tr>\n",
       "      <td>147</td>\n",
       "      <td>0.795669</td>\n",
       "      <td>-0.131979</td>\n",
       "      <td>0.819596</td>\n",
       "      <td>1.053935</td>\n",
       "      <td>2</td>\n",
       "    </tr>\n",
       "    <tr>\n",
       "      <td>148</td>\n",
       "      <td>0.432165</td>\n",
       "      <td>0.788808</td>\n",
       "      <td>0.933271</td>\n",
       "      <td>1.448832</td>\n",
       "      <td>2</td>\n",
       "    </tr>\n",
       "    <tr>\n",
       "      <td>149</td>\n",
       "      <td>0.068662</td>\n",
       "      <td>-0.131979</td>\n",
       "      <td>0.762758</td>\n",
       "      <td>0.790671</td>\n",
       "      <td>2</td>\n",
       "    </tr>\n",
       "  </tbody>\n",
       "</table>\n",
       "</div>"
      ],
      "text/plain": [
       "     Sepal_Length  Sepal_Width  Petal_Length  Petal_Width  Species\n",
       "145      1.038005    -0.131979      0.819596     1.448832        2\n",
       "146      0.553333    -1.282963      0.705921     0.922303        2\n",
       "147      0.795669    -0.131979      0.819596     1.053935        2\n",
       "148      0.432165     0.788808      0.933271     1.448832        2\n",
       "149      0.068662    -0.131979      0.762758     0.790671        2"
      ]
     },
     "execution_count": 10,
     "metadata": {},
     "output_type": "execute_result"
    }
   ],
   "source": [
    "levels = {\"setosa\":0, \"versicolor\":1, \"virginica\":2}\n",
    "\n",
    "iris_scaled[\"Species\"] = [levels[x] for x in iris.data[\"Species\"]]\n",
    "\n",
    "iris_scaled.tail()"
   ]
  },
  {
   "cell_type": "markdown",
   "metadata": {},
   "source": [
    "### Step 7: Splitting the data into Training and Testing set."
   ]
  },
  {
   "cell_type": "code",
   "execution_count": 11,
   "metadata": {},
   "outputs": [],
   "source": [
    "from sklearn.model_selection import train_test_split\n",
    "import numpy as np\n",
    "\n",
    "np.random.seed(2509)\n",
    "\n"
   ]
  },
  {
   "cell_type": "code",
   "execution_count": 12,
   "metadata": {},
   "outputs": [
    {
     "data": {
      "text/plain": [
       "[matrix([[-1.73673948e-01,  3.09077525e+00, -1.28338910e+00,\n",
       "          -1.05217993e+00,  0.00000000e+00],\n",
       "         [ 1.03800476e+00, -1.31979479e-01,  7.05920842e-01,\n",
       "           6.59038469e-01,  1.00000000e+00],\n",
       "         [-9.00681170e-01,  1.70959465e+00, -1.05603939e+00,\n",
       "          -1.05217993e+00,  0.00000000e+00],\n",
       "         [-4.16009689e-01,  1.01900435e+00, -1.39706395e+00,\n",
       "          -1.31544430e+00,  0.00000000e+00],\n",
       "         [-5.25060772e-02, -8.22569778e-01,  7.62758269e-01,\n",
       "           9.22302838e-01,  2.00000000e+00],\n",
       "         [-9.00681170e-01,  1.70959465e+00, -1.28338910e+00,\n",
       "          -1.18381211e+00,  0.00000000e+00],\n",
       "         [-5.25060772e-02, -8.22569778e-01,  7.62758269e-01,\n",
       "           9.22302838e-01,  2.00000000e+00],\n",
       "         [ 7.95669016e-01,  3.28414053e-01,  7.62758269e-01,\n",
       "           1.05393502e+00,  2.00000000e+00],\n",
       "         [-5.25060772e-02, -5.92373012e-01,  7.62758269e-01,\n",
       "           1.58046376e+00,  2.00000000e+00],\n",
       "         [ 5.53333275e-01, -1.28296331e+00,  6.49083415e-01,\n",
       "           3.95774101e-01,  1.00000000e+00],\n",
       "         [ 1.15917263e+00, -1.31979479e-01,  9.90107977e-01,\n",
       "           1.18556721e+00,  2.00000000e+00],\n",
       "         [-1.73673948e-01, -1.28296331e+00,  7.05920842e-01,\n",
       "           1.05393502e+00,  2.00000000e+00],\n",
       "         [ 2.24968346e+00, -5.92373012e-01,  1.67215710e+00,\n",
       "           1.05393502e+00,  2.00000000e+00],\n",
       "         [-2.94841818e-01, -1.31979479e-01,  4.21733708e-01,\n",
       "           3.95774101e-01,  1.00000000e+00],\n",
       "         [ 3.10997534e-01, -5.92373012e-01,  5.35408562e-01,\n",
       "           8.77547895e-04,  1.00000000e+00],\n",
       "         [ 2.24968346e+00,  1.70959465e+00,  1.67215710e+00,\n",
       "           1.31719939e+00,  2.00000000e+00],\n",
       "         [-1.38535265e+00,  3.28414053e-01, -1.39706395e+00,\n",
       "          -1.31544430e+00,  0.00000000e+00],\n",
       "         [ 3.10997534e-01, -3.62176246e-01,  5.35408562e-01,\n",
       "           2.64141916e-01,  1.00000000e+00],\n",
       "         [ 7.95669016e-01, -1.31979479e-01,  8.19595696e-01,\n",
       "           1.05393502e+00,  2.00000000e+00],\n",
       "         [ 4.32165405e-01, -1.97355361e+00,  4.21733708e-01,\n",
       "           3.95774101e-01,  1.00000000e+00],\n",
       "         [-1.02184904e+00,  3.28414053e-01, -1.45390138e+00,\n",
       "          -1.31544430e+00,  0.00000000e+00],\n",
       "         [ 4.32165405e-01, -5.92373012e-01,  5.92245988e-01,\n",
       "           7.90670654e-01,  2.00000000e+00],\n",
       "         [ 6.86617933e-02, -1.31979479e-01,  7.62758269e-01,\n",
       "           7.90670654e-01,  2.00000000e+00],\n",
       "         [-1.14301691e+00,  9.82172869e-02, -1.28338910e+00,\n",
       "          -1.44707648e+00,  0.00000000e+00],\n",
       "         [ 5.53333275e-01, -1.28296331e+00,  7.05920842e-01,\n",
       "           9.22302838e-01,  2.00000000e+00],\n",
       "         [ 1.28034050e+00,  3.28414053e-01,  1.10378283e+00,\n",
       "           1.44883158e+00,  2.00000000e+00],\n",
       "         [-1.74885626e+00, -1.31979479e-01, -1.39706395e+00,\n",
       "          -1.31544430e+00,  0.00000000e+00],\n",
       "         [ 9.16836886e-01, -3.62176246e-01,  4.78571135e-01,\n",
       "           1.32509732e-01,  1.00000000e+00],\n",
       "         [-1.02184904e+00,  7.88807586e-01, -1.22655167e+00,\n",
       "          -1.05217993e+00,  0.00000000e+00],\n",
       "         [-1.02184904e+00,  5.58610819e-01, -1.34022653e+00,\n",
       "          -1.31544430e+00,  0.00000000e+00],\n",
       "         [ 1.03800476e+00,  9.82172869e-02,  1.04694540e+00,\n",
       "           1.58046376e+00,  2.00000000e+00],\n",
       "         [ 2.24968346e+00, -1.31979479e-01,  1.33113254e+00,\n",
       "           1.44883158e+00,  2.00000000e+00],\n",
       "         [ 1.03800476e+00, -1.28296331e+00,  1.16062026e+00,\n",
       "           7.90670654e-01,  2.00000000e+00],\n",
       "         [ 1.89829664e-01, -8.22569778e-01,  7.62758269e-01,\n",
       "           5.27406285e-01,  1.00000000e+00],\n",
       "         [-1.73673948e-01, -1.31979479e-01,  2.51221427e-01,\n",
       "           8.77547895e-04,  1.00000000e+00],\n",
       "         [ 1.89829664e-01, -1.97355361e+00,  1.37546573e-01,\n",
       "          -2.62386821e-01,  1.00000000e+00],\n",
       "         [-5.37177559e-01,  1.47939788e+00, -1.28338910e+00,\n",
       "          -1.31544430e+00,  0.00000000e+00],\n",
       "         [-2.94841818e-01, -8.22569778e-01,  2.51221427e-01,\n",
       "           1.32509732e-01,  1.00000000e+00],\n",
       "         [-1.26418478e+00, -1.31979479e-01, -1.34022653e+00,\n",
       "          -1.44707648e+00,  0.00000000e+00],\n",
       "         [ 6.74501145e-01,  9.82172869e-02,  9.90107977e-01,\n",
       "           7.90670654e-01,  2.00000000e+00],\n",
       "         [-6.58345429e-01,  1.47939788e+00, -1.28338910e+00,\n",
       "          -1.31544430e+00,  0.00000000e+00],\n",
       "         [ 1.28034050e+00,  9.82172869e-02,  6.49083415e-01,\n",
       "           3.95774101e-01,  1.00000000e+00],\n",
       "         [-1.73673948e-01,  1.70959465e+00, -1.16971425e+00,\n",
       "          -1.18381211e+00,  0.00000000e+00],\n",
       "         [-1.02184904e+00, -2.43394714e+00, -1.46640561e-01,\n",
       "          -2.62386821e-01,  1.00000000e+00],\n",
       "         [-1.14301691e+00,  9.82172869e-02, -1.28338910e+00,\n",
       "          -1.31544430e+00,  0.00000000e+00],\n",
       "         [-1.26418478e+00,  9.82172869e-02, -1.22655167e+00,\n",
       "          -1.31544430e+00,  0.00000000e+00],\n",
       "         [-1.50652052e+00,  1.24920112e+00, -1.56757623e+00,\n",
       "          -1.31544430e+00,  0.00000000e+00],\n",
       "         [ 6.74501145e-01,  3.28414053e-01,  4.21733708e-01,\n",
       "           3.95774101e-01,  1.00000000e+00],\n",
       "         [-2.94841818e-01, -5.92373012e-01,  6.49083415e-01,\n",
       "           1.05393502e+00,  2.00000000e+00],\n",
       "         [-1.73673948e-01, -1.05276654e+00, -1.46640561e-01,\n",
       "          -2.62386821e-01,  1.00000000e+00],\n",
       "         [-5.25060772e-02, -8.22569778e-01,  8.07091462e-02,\n",
       "           8.77547895e-04,  1.00000000e+00],\n",
       "         [ 6.74501145e-01, -5.92373012e-01,  1.04694540e+00,\n",
       "           1.18556721e+00,  2.00000000e+00],\n",
       "         [ 7.95669016e-01, -5.92373012e-01,  4.78571135e-01,\n",
       "           3.95774101e-01,  1.00000000e+00],\n",
       "         [ 1.40150837e+00,  3.28414053e-01,  5.35408562e-01,\n",
       "           2.64141916e-01,  1.00000000e+00],\n",
       "         [ 9.16836886e-01, -1.31979479e-01,  3.64896281e-01,\n",
       "           2.64141916e-01,  1.00000000e+00],\n",
       "         [-9.00681170e-01,  7.88807586e-01, -1.28338910e+00,\n",
       "          -1.31544430e+00,  0.00000000e+00],\n",
       "         [ 2.49201920e+00,  1.70959465e+00,  1.50164482e+00,\n",
       "           1.05393502e+00,  2.00000000e+00],\n",
       "         [ 1.03800476e+00, -1.31979479e-01,  8.19595696e-01,\n",
       "           1.44883158e+00,  2.00000000e+00],\n",
       "         [-1.73673948e-01, -3.62176246e-01,  2.51221427e-01,\n",
       "           1.32509732e-01,  1.00000000e+00],\n",
       "         [-5.25060772e-02, -1.05276654e+00,  1.37546573e-01,\n",
       "           8.77547895e-04,  1.00000000e+00],\n",
       "         [ 5.53333275e-01, -3.62176246e-01,  1.04694540e+00,\n",
       "           7.90670654e-01,  2.00000000e+00],\n",
       "         [-7.79513300e-01,  1.01900435e+00, -1.28338910e+00,\n",
       "          -1.31544430e+00,  0.00000000e+00],\n",
       "         [ 1.88617985e+00, -5.92373012e-01,  1.33113254e+00,\n",
       "           9.22302838e-01,  2.00000000e+00],\n",
       "         [-4.16009689e-01, -1.28296331e+00,  1.37546573e-01,\n",
       "           1.32509732e-01,  1.00000000e+00],\n",
       "         [-5.37177559e-01,  1.93979142e+00, -1.16971425e+00,\n",
       "          -1.05217993e+00,  0.00000000e+00],\n",
       "         [ 1.15917263e+00,  3.28414053e-01,  1.21745768e+00,\n",
       "           1.44883158e+00,  2.00000000e+00],\n",
       "         [ 5.53333275e-01,  5.58610819e-01,  1.27429511e+00,\n",
       "           1.71209594e+00,  2.00000000e+00],\n",
       "         [ 6.74501145e-01, -3.62176246e-01,  3.08058854e-01,\n",
       "           1.32509732e-01,  1.00000000e+00],\n",
       "         [ 7.95669016e-01, -1.31979479e-01,  1.16062026e+00,\n",
       "           1.31719939e+00,  2.00000000e+00],\n",
       "         [-1.02184904e+00,  1.01900435e+00, -1.39706395e+00,\n",
       "          -1.18381211e+00,  0.00000000e+00],\n",
       "         [-1.50652052e+00,  3.28414053e-01, -1.34022653e+00,\n",
       "          -1.31544430e+00,  0.00000000e+00],\n",
       "         [-1.87002413e+00, -1.31979479e-01, -1.51073881e+00,\n",
       "          -1.44707648e+00,  0.00000000e+00],\n",
       "         [-1.02184904e+00, -1.74335684e+00, -2.60315415e-01,\n",
       "          -2.62386821e-01,  1.00000000e+00],\n",
       "         [-5.25060772e-02,  2.16998818e+00, -1.45390138e+00,\n",
       "          -1.31544430e+00,  0.00000000e+00],\n",
       "         [-5.37177559e-01, -1.31979479e-01,  4.21733708e-01,\n",
       "           3.95774101e-01,  1.00000000e+00]]),\n",
       " matrix([[ 1.64384411e+00,  3.28414053e-01,  1.27429511e+00,\n",
       "           7.90670654e-01,  2.00000000e+00],\n",
       "         [-9.00681170e-01,  1.01900435e+00, -1.34022653e+00,\n",
       "          -1.18381211e+00,  0.00000000e+00],\n",
       "         [-1.62768839e+00, -1.74335684e+00, -1.39706395e+00,\n",
       "          -1.18381211e+00,  0.00000000e+00],\n",
       "         [-1.02184904e+00,  1.24920112e+00, -1.34022653e+00,\n",
       "          -1.31544430e+00,  0.00000000e+00],\n",
       "         [-4.16009689e-01, -1.51316008e+00, -3.29657076e-02,\n",
       "          -2.62386821e-01,  1.00000000e+00],\n",
       "         [ 1.03800476e+00,  9.82172869e-02,  5.35408562e-01,\n",
       "           3.95774101e-01,  1.00000000e+00],\n",
       "         [-1.26418478e+00, -1.31979479e-01, -1.34022653e+00,\n",
       "          -1.18381211e+00,  0.00000000e+00],\n",
       "         [ 4.32165405e-01, -3.62176246e-01,  3.08058854e-01,\n",
       "           1.32509732e-01,  1.00000000e+00],\n",
       "         [ 3.10997534e-01, -5.92373012e-01,  1.37546573e-01,\n",
       "           1.32509732e-01,  1.00000000e+00],\n",
       "         [ 1.64384411e+00,  1.24920112e+00,  1.33113254e+00,\n",
       "           1.71209594e+00,  2.00000000e+00],\n",
       "         [-4.16009689e-01, -1.74335684e+00,  1.37546573e-01,\n",
       "           1.32509732e-01,  1.00000000e+00],\n",
       "         [ 1.64384411e+00, -1.31979479e-01,  1.16062026e+00,\n",
       "           5.27406285e-01,  2.00000000e+00],\n",
       "         [-2.94841818e-01, -1.28296331e+00,  8.07091462e-02,\n",
       "          -1.30754636e-01,  1.00000000e+00],\n",
       "         [-1.14301691e+00, -1.28296331e+00,  4.21733708e-01,\n",
       "           6.59038469e-01,  2.00000000e+00],\n",
       "         [-1.50652052e+00,  7.88807586e-01, -1.34022653e+00,\n",
       "          -1.18381211e+00,  0.00000000e+00],\n",
       "         [-4.16009689e-01, -1.05276654e+00,  3.64896281e-01,\n",
       "           8.77547895e-04,  1.00000000e+00],\n",
       "         [-1.02184904e+00,  1.01900435e+00, -1.22655167e+00,\n",
       "          -7.88915558e-01,  0.00000000e+00],\n",
       "         [ 1.52267624e+00, -1.31979479e-01,  1.21745768e+00,\n",
       "           1.18556721e+00,  2.00000000e+00],\n",
       "         [-9.00681170e-01,  1.47939788e+00, -1.28338910e+00,\n",
       "          -1.05217993e+00,  0.00000000e+00],\n",
       "         [-7.79513300e-01,  7.88807586e-01, -1.34022653e+00,\n",
       "          -1.31544430e+00,  0.00000000e+00],\n",
       "         [ 1.03800476e+00,  9.82172869e-02,  3.64896281e-01,\n",
       "           2.64141916e-01,  1.00000000e+00],\n",
       "         [ 1.76501198e+00, -3.62176246e-01,  1.44480739e+00,\n",
       "           7.90670654e-01,  2.00000000e+00],\n",
       "         [-1.74885626e+00, -3.62176246e-01, -1.34022653e+00,\n",
       "          -1.31544430e+00,  0.00000000e+00],\n",
       "         [ 1.89829664e-01,  7.88807586e-01,  4.21733708e-01,\n",
       "           5.27406285e-01,  1.00000000e+00],\n",
       "         [-1.26418478e+00,  7.88807586e-01, -1.22655167e+00,\n",
       "          -1.31544430e+00,  0.00000000e+00],\n",
       "         [-1.38535265e+00,  3.28414053e-01, -1.22655167e+00,\n",
       "          -1.31544430e+00,  0.00000000e+00],\n",
       "         [-1.26418478e+00,  7.88807586e-01, -1.05603939e+00,\n",
       "          -1.31544430e+00,  0.00000000e+00],\n",
       "         [-4.16009689e-01,  2.63038172e+00, -1.34022653e+00,\n",
       "          -1.31544430e+00,  0.00000000e+00],\n",
       "         [ 3.10997534e-01, -1.31979479e-01,  4.78571135e-01,\n",
       "           2.64141916e-01,  1.00000000e+00],\n",
       "         [ 7.95669016e-01, -1.31979479e-01,  9.90107977e-01,\n",
       "           7.90670654e-01,  2.00000000e+00],\n",
       "         [ 5.53333275e-01,  5.58610819e-01,  5.35408562e-01,\n",
       "           5.27406285e-01,  1.00000000e+00],\n",
       "         [-1.14301691e+00, -1.51316008e+00, -2.60315415e-01,\n",
       "          -2.62386821e-01,  1.00000000e+00],\n",
       "         [ 1.28034050e+00,  9.82172869e-02,  7.62758269e-01,\n",
       "           1.44883158e+00,  2.00000000e+00],\n",
       "         [-1.14301691e+00,  1.24920112e+00, -1.34022653e+00,\n",
       "          -1.44707648e+00,  0.00000000e+00],\n",
       "         [ 1.15917263e+00, -5.92373012e-01,  5.92245988e-01,\n",
       "           2.64141916e-01,  1.00000000e+00],\n",
       "         [ 3.10997534e-01, -1.31979479e-01,  6.49083415e-01,\n",
       "           7.90670654e-01,  2.00000000e+00],\n",
       "         [-2.94841818e-01, -1.31979479e-01,  1.94384000e-01,\n",
       "           1.32509732e-01,  1.00000000e+00],\n",
       "         [-9.00681170e-01, -1.28296331e+00, -4.30827696e-01,\n",
       "          -1.30754636e-01,  1.00000000e+00],\n",
       "         [ 1.89829664e-01, -1.31979479e-01,  5.92245988e-01,\n",
       "           7.90670654e-01,  2.00000000e+00],\n",
       "         [-5.25060772e-02, -8.22569778e-01,  1.94384000e-01,\n",
       "          -2.62386821e-01,  1.00000000e+00],\n",
       "         [-5.37177559e-01,  7.88807586e-01, -1.16971425e+00,\n",
       "          -1.31544430e+00,  0.00000000e+00],\n",
       "         [ 1.03800476e+00,  5.58610819e-01,  1.10378283e+00,\n",
       "           1.71209594e+00,  2.00000000e+00],\n",
       "         [ 6.74501145e-01, -5.92373012e-01,  1.04694540e+00,\n",
       "           1.31719939e+00,  2.00000000e+00],\n",
       "         [ 1.28034050e+00,  9.82172869e-02,  9.33270550e-01,\n",
       "           1.18556721e+00,  2.00000000e+00],\n",
       "         [ 5.53333275e-01,  7.88807586e-01,  1.04694540e+00,\n",
       "           1.58046376e+00,  2.00000000e+00],\n",
       "         [ 6.74501145e-01, -8.22569778e-01,  8.76433123e-01,\n",
       "           9.22302838e-01,  2.00000000e+00],\n",
       "         [-9.00681170e-01,  5.58610819e-01, -1.16971425e+00,\n",
       "          -9.20547742e-01,  0.00000000e+00],\n",
       "         [-2.94841818e-01, -3.62176246e-01, -8.98031345e-02,\n",
       "           1.32509732e-01,  1.00000000e+00],\n",
       "         [ 4.32165405e-01,  7.88807586e-01,  9.33270550e-01,\n",
       "           1.44883158e+00,  2.00000000e+00],\n",
       "         [-7.79513300e-01,  2.40018495e+00, -1.28338910e+00,\n",
       "          -1.44707648e+00,  0.00000000e+00],\n",
       "         [-5.37177559e-01,  1.93979142e+00, -1.39706395e+00,\n",
       "          -1.05217993e+00,  0.00000000e+00],\n",
       "         [ 3.10997534e-01, -1.05276654e+00,  1.04694540e+00,\n",
       "           2.64141916e-01,  2.00000000e+00],\n",
       "         [ 1.89829664e-01, -3.62176246e-01,  4.21733708e-01,\n",
       "           3.95774101e-01,  1.00000000e+00],\n",
       "         [ 6.86617933e-02, -1.31979479e-01,  2.51221427e-01,\n",
       "           3.95774101e-01,  1.00000000e+00],\n",
       "         [-7.79513300e-01, -8.22569778e-01,  8.07091462e-02,\n",
       "           2.64141916e-01,  1.00000000e+00],\n",
       "         [-1.73673948e-01, -5.92373012e-01,  1.94384000e-01,\n",
       "           1.32509732e-01,  1.00000000e+00],\n",
       "         [-1.02184904e+00, -1.31979479e-01, -1.22655167e+00,\n",
       "          -1.31544430e+00,  0.00000000e+00],\n",
       "         [-1.02184904e+00,  7.88807586e-01, -1.28338910e+00,\n",
       "          -1.31544430e+00,  0.00000000e+00],\n",
       "         [ 6.74501145e-01,  3.28414053e-01,  8.76433123e-01,\n",
       "           1.44883158e+00,  2.00000000e+00],\n",
       "         [ 1.89829664e-01, -1.97355361e+00,  7.05920842e-01,\n",
       "           3.95774101e-01,  2.00000000e+00],\n",
       "         [-1.50652052e+00,  9.82172869e-02, -1.28338910e+00,\n",
       "          -1.31544430e+00,  0.00000000e+00],\n",
       "         [ 5.53333275e-01, -8.22569778e-01,  6.49083415e-01,\n",
       "           7.90670654e-01,  2.00000000e+00],\n",
       "         [-1.14301691e+00, -1.31979479e-01, -1.34022653e+00,\n",
       "          -1.31544430e+00,  0.00000000e+00],\n",
       "         [-1.74885626e+00,  3.28414053e-01, -1.39706395e+00,\n",
       "          -1.31544430e+00,  0.00000000e+00],\n",
       "         [-5.37177559e-01,  7.88807586e-01, -1.28338910e+00,\n",
       "          -1.05217993e+00,  0.00000000e+00],\n",
       "         [-9.00681170e-01,  1.01900435e+00, -1.34022653e+00,\n",
       "          -1.31544430e+00,  0.00000000e+00],\n",
       "         [ 2.24968346e+00, -1.05276654e+00,  1.78583195e+00,\n",
       "           1.44883158e+00,  2.00000000e+00],\n",
       "         [-9.00681170e-01,  1.70959465e+00, -1.22655167e+00,\n",
       "          -1.31544430e+00,  0.00000000e+00],\n",
       "         [ 1.03800476e+00,  5.58610819e-01,  1.10378283e+00,\n",
       "           1.18556721e+00,  2.00000000e+00],\n",
       "         [-4.16009689e-01, -1.51316008e+00,  2.38717193e-02,\n",
       "          -1.30754636e-01,  1.00000000e+00],\n",
       "         [ 5.53333275e-01, -1.74335684e+00,  3.64896281e-01,\n",
       "           1.32509732e-01,  1.00000000e+00],\n",
       "         [ 6.86617933e-02,  3.28414053e-01,  5.92245988e-01,\n",
       "           7.90670654e-01,  1.00000000e+00],\n",
       "         [-1.73673948e-01, -5.92373012e-01,  4.21733708e-01,\n",
       "           1.32509732e-01,  1.00000000e+00],\n",
       "         [ 2.12851559e+00, -1.31979479e-01,  1.61531967e+00,\n",
       "           1.18556721e+00,  2.00000000e+00],\n",
       "         [ 5.53333275e-01, -5.92373012e-01,  7.62758269e-01,\n",
       "           3.95774101e-01,  2.00000000e+00]])]"
      ]
     },
     "execution_count": 12,
     "metadata": {},
     "output_type": "execute_result"
    }
   ],
   "source": [
    "\n",
    "iris_split = train_test_split(np.asmatrix(iris_scaled), \\\n",
    "                              test_size=75)\n",
    "iris_split"
   ]
  },
  {
   "cell_type": "code",
   "execution_count": 13,
   "metadata": {},
   "outputs": [],
   "source": [
    "#type(np.asmatrix(iris_scaled))"
   ]
  },
  {
   "cell_type": "code",
   "execution_count": 14,
   "metadata": {},
   "outputs": [],
   "source": [
    "iris_train_features = iris_split[0][:,:4]\n",
    "iris_train_labels = np.ravel(iris_split[0][:,4])\n",
    "\n",
    "iris_test_features = iris_split[1][:,:4]\n",
    "iris_test_labels = np.ravel(iris_split[1][:,4])\n"
   ]
  },
  {
   "cell_type": "code",
   "execution_count": 15,
   "metadata": {},
   "outputs": [],
   "source": [
    "#np.ravel(iris_split[0][:,4])"
   ]
  },
  {
   "cell_type": "code",
   "execution_count": 16,
   "metadata": {},
   "outputs": [
    {
     "name": "stdout",
     "output_type": "stream",
     "text": [
      "(75, 4)\n",
      "(75,)\n",
      "(75, 4)\n",
      "(75,)\n"
     ]
    }
   ],
   "source": [
    "print(iris_train_features.shape)\n",
    "print(iris_train_labels.shape)\n",
    "print(iris_test_features.shape)\n",
    "print(iris_test_labels.shape)"
   ]
  },
  {
   "cell_type": "markdown",
   "metadata": {},
   "source": [
    "### Step 8: Training and Evaluation of Machine Learning model using KNN Algorithm"
   ]
  },
  {
   "cell_type": "code",
   "execution_count": 17,
   "metadata": {},
   "outputs": [
    {
     "data": {
      "text/plain": [
       "KNeighborsClassifier(algorithm='auto', leaf_size=30, metric='minkowski',\n",
       "                     metric_params=None, n_jobs=None, n_neighbors=3, p=2,\n",
       "                     weights='uniform')"
      ]
     },
     "execution_count": 17,
     "metadata": {},
     "output_type": "execute_result"
    }
   ],
   "source": [
    "from sklearn.neighbors import KNeighborsClassifier\n",
    "\n",
    "KNN_Mod = KNeighborsClassifier(n_neighbors = 3)\n",
    "\n",
    "KNN_Mod.fit(iris_train_features, iris_train_labels)"
   ]
  },
  {
   "cell_type": "markdown",
   "metadata": {},
   "source": [
    "In above codes, we created a training model \"KNN_Mod\" and used '.fit()' method over it by passing the training set (calling the splitted sets together).\n",
    "\n",
    "Now, we need to test the accuracy of the trained model. We shall do it by calling the features from test data without label, and will then compare the result with the existing label. Accuracy will be calculated in %ge for the correctly classified results."
   ]
  },
  {
   "cell_type": "code",
   "execution_count": 18,
   "metadata": {},
   "outputs": [],
   "source": [
    "iris_test = pd.DataFrame(iris_test_features, columns = colnames)"
   ]
  },
  {
   "cell_type": "code",
   "execution_count": 19,
   "metadata": {},
   "outputs": [],
   "source": [
    "iris_test[\"predicted\"] = KNN_Mod.predict(iris_test_features)"
   ]
  },
  {
   "cell_type": "code",
   "execution_count": 20,
   "metadata": {},
   "outputs": [],
   "source": [
    "iris_test[\"correct\"] = [1 if x==z else 0 for x, z in zip(iris_test[\"predicted\"], iris_test_labels)]"
   ]
  },
  {
   "cell_type": "code",
   "execution_count": 21,
   "metadata": {},
   "outputs": [
    {
     "data": {
      "text/html": [
       "<div>\n",
       "<style scoped>\n",
       "    .dataframe tbody tr th:only-of-type {\n",
       "        vertical-align: middle;\n",
       "    }\n",
       "\n",
       "    .dataframe tbody tr th {\n",
       "        vertical-align: top;\n",
       "    }\n",
       "\n",
       "    .dataframe thead th {\n",
       "        text-align: right;\n",
       "    }\n",
       "</style>\n",
       "<table border=\"1\" class=\"dataframe\">\n",
       "  <thead>\n",
       "    <tr style=\"text-align: right;\">\n",
       "      <th></th>\n",
       "      <th>Sepal_Length</th>\n",
       "      <th>Sepal_Width</th>\n",
       "      <th>Petal_Length</th>\n",
       "      <th>Petal_Width</th>\n",
       "      <th>predicted</th>\n",
       "      <th>correct</th>\n",
       "    </tr>\n",
       "  </thead>\n",
       "  <tbody>\n",
       "    <tr>\n",
       "      <td>0</td>\n",
       "      <td>1.643844</td>\n",
       "      <td>0.328414</td>\n",
       "      <td>1.274295</td>\n",
       "      <td>0.790671</td>\n",
       "      <td>2.0</td>\n",
       "      <td>1</td>\n",
       "    </tr>\n",
       "    <tr>\n",
       "      <td>1</td>\n",
       "      <td>-0.900681</td>\n",
       "      <td>1.019004</td>\n",
       "      <td>-1.340227</td>\n",
       "      <td>-1.183812</td>\n",
       "      <td>0.0</td>\n",
       "      <td>1</td>\n",
       "    </tr>\n",
       "    <tr>\n",
       "      <td>2</td>\n",
       "      <td>-1.627688</td>\n",
       "      <td>-1.743357</td>\n",
       "      <td>-1.397064</td>\n",
       "      <td>-1.183812</td>\n",
       "      <td>0.0</td>\n",
       "      <td>1</td>\n",
       "    </tr>\n",
       "    <tr>\n",
       "      <td>3</td>\n",
       "      <td>-1.021849</td>\n",
       "      <td>1.249201</td>\n",
       "      <td>-1.340227</td>\n",
       "      <td>-1.315444</td>\n",
       "      <td>0.0</td>\n",
       "      <td>1</td>\n",
       "    </tr>\n",
       "    <tr>\n",
       "      <td>4</td>\n",
       "      <td>-0.416010</td>\n",
       "      <td>-1.513160</td>\n",
       "      <td>-0.032966</td>\n",
       "      <td>-0.262387</td>\n",
       "      <td>1.0</td>\n",
       "      <td>1</td>\n",
       "    </tr>\n",
       "    <tr>\n",
       "      <td>...</td>\n",
       "      <td>...</td>\n",
       "      <td>...</td>\n",
       "      <td>...</td>\n",
       "      <td>...</td>\n",
       "      <td>...</td>\n",
       "      <td>...</td>\n",
       "    </tr>\n",
       "    <tr>\n",
       "      <td>70</td>\n",
       "      <td>0.553333</td>\n",
       "      <td>-1.743357</td>\n",
       "      <td>0.364896</td>\n",
       "      <td>0.132510</td>\n",
       "      <td>1.0</td>\n",
       "      <td>1</td>\n",
       "    </tr>\n",
       "    <tr>\n",
       "      <td>71</td>\n",
       "      <td>0.068662</td>\n",
       "      <td>0.328414</td>\n",
       "      <td>0.592246</td>\n",
       "      <td>0.790671</td>\n",
       "      <td>1.0</td>\n",
       "      <td>1</td>\n",
       "    </tr>\n",
       "    <tr>\n",
       "      <td>72</td>\n",
       "      <td>-0.173674</td>\n",
       "      <td>-0.592373</td>\n",
       "      <td>0.421734</td>\n",
       "      <td>0.132510</td>\n",
       "      <td>1.0</td>\n",
       "      <td>1</td>\n",
       "    </tr>\n",
       "    <tr>\n",
       "      <td>73</td>\n",
       "      <td>2.128516</td>\n",
       "      <td>-0.131979</td>\n",
       "      <td>1.615320</td>\n",
       "      <td>1.185567</td>\n",
       "      <td>2.0</td>\n",
       "      <td>1</td>\n",
       "    </tr>\n",
       "    <tr>\n",
       "      <td>74</td>\n",
       "      <td>0.553333</td>\n",
       "      <td>-0.592373</td>\n",
       "      <td>0.762758</td>\n",
       "      <td>0.395774</td>\n",
       "      <td>1.0</td>\n",
       "      <td>0</td>\n",
       "    </tr>\n",
       "  </tbody>\n",
       "</table>\n",
       "<p>75 rows × 6 columns</p>\n",
       "</div>"
      ],
      "text/plain": [
       "    Sepal_Length  Sepal_Width  Petal_Length  Petal_Width  predicted  correct\n",
       "0       1.643844     0.328414      1.274295     0.790671        2.0        1\n",
       "1      -0.900681     1.019004     -1.340227    -1.183812        0.0        1\n",
       "2      -1.627688    -1.743357     -1.397064    -1.183812        0.0        1\n",
       "3      -1.021849     1.249201     -1.340227    -1.315444        0.0        1\n",
       "4      -0.416010    -1.513160     -0.032966    -0.262387        1.0        1\n",
       "..           ...          ...           ...          ...        ...      ...\n",
       "70      0.553333    -1.743357      0.364896     0.132510        1.0        1\n",
       "71      0.068662     0.328414      0.592246     0.790671        1.0        1\n",
       "72     -0.173674    -0.592373      0.421734     0.132510        1.0        1\n",
       "73      2.128516    -0.131979      1.615320     1.185567        2.0        1\n",
       "74      0.553333    -0.592373      0.762758     0.395774        1.0        0\n",
       "\n",
       "[75 rows x 6 columns]"
      ]
     },
     "execution_count": 21,
     "metadata": {},
     "output_type": "execute_result"
    }
   ],
   "source": [
    "iris_test"
   ]
  },
  {
   "cell_type": "code",
   "execution_count": 22,
   "metadata": {},
   "outputs": [],
   "source": [
    "accuracy = 100 * (sum(iris_test[\"correct\"])/iris_test.shape[0])"
   ]
  },
  {
   "cell_type": "code",
   "execution_count": 23,
   "metadata": {},
   "outputs": [
    {
     "name": "stdout",
     "output_type": "stream",
     "text": [
      "90.66666666666666\n"
     ]
    }
   ],
   "source": [
    "print(accuracy)"
   ]
  },
  {
   "cell_type": "code",
   "execution_count": 24,
   "metadata": {},
   "outputs": [
    {
     "data": {
      "text/plain": [
       "75"
      ]
     },
     "execution_count": 24,
     "metadata": {},
     "output_type": "execute_result"
    }
   ],
   "source": [
    "iris_test.shape[0]"
   ]
  },
  {
   "cell_type": "code",
   "execution_count": null,
   "metadata": {},
   "outputs": [],
   "source": []
  }
 ],
 "metadata": {
  "kernelspec": {
   "display_name": "Python 3",
   "language": "python",
   "name": "python3"
  },
  "language_info": {
   "codemirror_mode": {
    "name": "ipython",
    "version": 3
   },
   "file_extension": ".py",
   "mimetype": "text/x-python",
   "name": "python",
   "nbconvert_exporter": "python",
   "pygments_lexer": "ipython3",
   "version": "3.7.3"
  }
 },
 "nbformat": 4,
 "nbformat_minor": 2
}
